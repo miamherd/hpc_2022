{
 "cells": [
  {
   "cell_type": "markdown",
   "id": "c110cbe4-7df7-4659-8258-cee73f5bdca7",
   "metadata": {},
   "source": [
    "# Title\n",
    "\n",
    "Text"
   ]
  },
  {
   "cell_type": "code",
   "execution_count": null,
   "id": "3319c5b3-6b7b-4003-8bac-daf6e31806aa",
   "metadata": {},
   "outputs": [],
   "source": [
    "import numpy as np"
   ]
  },
  {
   "cell_type": "code",
   "execution_count": 6,
   "id": "4b99105b-ed44-47f1-b4d5-22d28762bc50",
   "metadata": {},
   "outputs": [],
   "source": [
    "a= 3"
   ]
  },
  {
   "cell_type": "code",
   "execution_count": 7,
   "id": "4d18cc0d-93b9-4522-b4c5-22a42ee7a103",
   "metadata": {},
   "outputs": [
    {
     "data": {
      "text/plain": [
       "3"
      ]
     },
     "execution_count": 7,
     "metadata": {},
     "output_type": "execute_result"
    }
   ],
   "source": [
    "a"
   ]
  }
 ],
 "metadata": {
  "kernelspec": {
   "display_name": "Python 3 (ipykernel)",
   "language": "python",
   "name": "python3"
  },
  "language_info": {
   "codemirror_mode": {
    "name": "ipython",
    "version": 3
   },
   "file_extension": ".py",
   "mimetype": "text/x-python",
   "name": "python",
   "nbconvert_exporter": "python",
   "pygments_lexer": "ipython3",
   "version": "3.9.12"
  }
 },
 "nbformat": 4,
 "nbformat_minor": 5
}
